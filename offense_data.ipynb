{
 "cells": [
  {
   "cell_type": "code",
   "execution_count": 1,
   "id": "95d53bec",
   "metadata": {},
   "outputs": [],
   "source": [
    "import numpy as np\n",
    "import pandas as pd\n",
    "from pandas.plotting import scatter_matrix, parallel_coordinates\n",
    "import seaborn as sns\n",
    "import matplotlib.pylab as plt\n",
    "import matplotlib.pyplot as plt\n",
    "%matplotlib inline"
   ]
  },
  {
   "cell_type": "code",
   "execution_count": 55,
   "id": "a9bb26e1",
   "metadata": {},
   "outputs": [
    {
     "data": {
      "text/html": [
       "<div>\n",
       "<style scoped>\n",
       "    .dataframe tbody tr th:only-of-type {\n",
       "        vertical-align: middle;\n",
       "    }\n",
       "\n",
       "    .dataframe tbody tr th {\n",
       "        vertical-align: top;\n",
       "    }\n",
       "\n",
       "    .dataframe thead th {\n",
       "        text-align: right;\n",
       "    }\n",
       "</style>\n",
       "<table border=\"1\" class=\"dataframe\">\n",
       "  <thead>\n",
       "    <tr style=\"text-align: right;\">\n",
       "      <th></th>\n",
       "      <th>data_casenum</th>\n",
       "      <th>ReportDate</th>\n",
       "      <th>itype</th>\n",
       "      <th>Zone</th>\n",
       "      <th>Category</th>\n",
       "      <th>Vehicle Related?</th>\n",
       "    </tr>\n",
       "  </thead>\n",
       "  <tbody>\n",
       "    <tr>\n",
       "      <th>0</th>\n",
       "      <td>21-38561</td>\n",
       "      <td>2021-08-17 20:46:00</td>\n",
       "      <td>23H</td>\n",
       "      <td>Z3</td>\n",
       "      <td>Other</td>\n",
       "      <td>N</td>\n",
       "    </tr>\n",
       "    <tr>\n",
       "      <th>1</th>\n",
       "      <td>21-38559</td>\n",
       "      <td>2021-08-17 20:10:00</td>\n",
       "      <td>23C</td>\n",
       "      <td>Z2</td>\n",
       "      <td>Other</td>\n",
       "      <td>N</td>\n",
       "    </tr>\n",
       "    <tr>\n",
       "      <th>2</th>\n",
       "      <td>21-38559</td>\n",
       "      <td>2021-08-17 20:10:00</td>\n",
       "      <td>23C</td>\n",
       "      <td>Z1</td>\n",
       "      <td>Other</td>\n",
       "      <td>N</td>\n",
       "    </tr>\n",
       "    <tr>\n",
       "      <th>3</th>\n",
       "      <td>21-38557</td>\n",
       "      <td>2021-08-17 19:27:00</td>\n",
       "      <td>91J</td>\n",
       "      <td>Z5</td>\n",
       "      <td>Larceny</td>\n",
       "      <td>N</td>\n",
       "    </tr>\n",
       "    <tr>\n",
       "      <th>4</th>\n",
       "      <td>21-38547</td>\n",
       "      <td>2021-08-17 18:57:00</td>\n",
       "      <td>35A</td>\n",
       "      <td>Z8</td>\n",
       "      <td>Other</td>\n",
       "      <td>N</td>\n",
       "    </tr>\n",
       "  </tbody>\n",
       "</table>\n",
       "</div>"
      ],
      "text/plain": [
       "  data_casenum          ReportDate itype Zone Category Vehicle Related?\n",
       "0     21-38561 2021-08-17 20:46:00   23H   Z3    Other                N\n",
       "1     21-38559 2021-08-17 20:10:00   23C   Z2    Other                N\n",
       "2     21-38559 2021-08-17 20:10:00   23C   Z1    Other                N\n",
       "3     21-38557 2021-08-17 19:27:00   91J   Z5  Larceny                N\n",
       "4     21-38547 2021-08-17 18:57:00   35A   Z8    Other                N"
      ]
     },
     "execution_count": 55,
     "metadata": {},
     "output_type": "execute_result"
    }
   ],
   "source": [
    "df = pd.read_excel(\"Offenses Data Test.xlsx\")\n",
    "df.rename(columns={'dateReport (date)':'ReportDate'}, inplace=True)\n",
    "df.head()"
   ]
  },
  {
   "cell_type": "markdown",
   "id": "6dce8bfb",
   "metadata": {},
   "source": [
    "### a.The attribute names"
   ]
  },
  {
   "cell_type": "code",
   "execution_count": 36,
   "id": "2acad462",
   "metadata": {},
   "outputs": [
    {
     "data": {
      "text/plain": [
       "Index(['data_casenum', 'ReportDate', 'itype', 'Zone', 'Category',\n",
       "       'Vehicle Related?'],\n",
       "      dtype='object')"
      ]
     },
     "execution_count": 36,
     "metadata": {},
     "output_type": "execute_result"
    }
   ],
   "source": [
    "df.columns"
   ]
  },
  {
   "cell_type": "code",
   "execution_count": 37,
   "id": "bd18e72e",
   "metadata": {},
   "outputs": [
    {
     "data": {
      "text/plain": [
       "data_casenum                object\n",
       "ReportDate          datetime64[ns]\n",
       "itype                       object\n",
       "Zone                        object\n",
       "Category                    object\n",
       "Vehicle Related?            object\n",
       "dtype: object"
      ]
     },
     "execution_count": 37,
     "metadata": {},
     "output_type": "execute_result"
    }
   ],
   "source": [
    "df.dtypes"
   ]
  },
  {
   "cell_type": "markdown",
   "id": "14303f76",
   "metadata": {},
   "source": [
    "### b.Number of rows and columns"
   ]
  },
  {
   "cell_type": "code",
   "execution_count": 38,
   "id": "becf8274",
   "metadata": {},
   "outputs": [
    {
     "data": {
      "text/plain": [
       "(31998, 6)"
      ]
     },
     "execution_count": 38,
     "metadata": {},
     "output_type": "execute_result"
    }
   ],
   "source": [
    "df.shape"
   ]
  },
  {
   "cell_type": "markdown",
   "id": "976c0d96",
   "metadata": {},
   "source": [
    "### c.Are there any null (i.e., missing) values in the target variable? How many null values were there?"
   ]
  },
  {
   "cell_type": "code",
   "execution_count": 39,
   "id": "e4cf6bfc",
   "metadata": {},
   "outputs": [
    {
     "data": {
      "text/plain": [
       "data_casenum        False\n",
       "ReportDate          False\n",
       "itype               False\n",
       "Zone                 True\n",
       "Category            False\n",
       "Vehicle Related?    False\n",
       "dtype: bool"
      ]
     },
     "execution_count": 39,
     "metadata": {},
     "output_type": "execute_result"
    }
   ],
   "source": [
    "df.isna().any()"
   ]
  },
  {
   "cell_type": "code",
   "execution_count": 40,
   "id": "db7d0fb8",
   "metadata": {},
   "outputs": [
    {
     "data": {
      "text/plain": [
       "data_casenum          0\n",
       "ReportDate            0\n",
       "itype                 0\n",
       "Zone                175\n",
       "Category              0\n",
       "Vehicle Related?      0\n",
       "dtype: int64"
      ]
     },
     "execution_count": 40,
     "metadata": {},
     "output_type": "execute_result"
    }
   ],
   "source": [
    "df.isna().sum()"
   ]
  },
  {
   "cell_type": "markdown",
   "id": "46870d07",
   "metadata": {},
   "source": [
    "### 3.Drop NULL (na) values"
   ]
  },
  {
   "cell_type": "code",
   "execution_count": 56,
   "id": "ae6b081e",
   "metadata": {},
   "outputs": [],
   "source": [
    "df.dropna(inplace=True)"
   ]
  },
  {
   "cell_type": "markdown",
   "id": "2e9024d0",
   "metadata": {},
   "source": [
    "### 4.What types of crime are on the rise?"
   ]
  },
  {
   "cell_type": "code",
   "execution_count": 50,
   "id": "87291626",
   "metadata": {},
   "outputs": [
    {
     "data": {
      "text/plain": [
       "Other       22767\n",
       "Larceny      8813\n",
       "Rape          229\n",
       "Homicide       14\n",
       "Name: Category, dtype: int64"
      ]
     },
     "execution_count": 50,
     "metadata": {},
     "output_type": "execute_result"
    }
   ],
   "source": [
    "df.Category.value_counts()"
   ]
  },
  {
   "cell_type": "code",
   "execution_count": 113,
   "id": "17d8d9ff",
   "metadata": {},
   "outputs": [
    {
     "data": {
      "text/plain": [
       "<seaborn.axisgrid.FacetGrid at 0x25e09a21990>"
      ]
     },
     "execution_count": 113,
     "metadata": {},
     "output_type": "execute_result"
    },
    {
     "data": {
      "image/png": "[encoded data removed]",
      "text/plain": [
       "<Figure size 500x500 with 1 Axes>"
      ]
     },
     "metadata": {},
     "output_type": "display_data"
    }
   ],
   "source": [
    "sns.displot(df['Category'],bins=10)"
   ]
  },
  {
   "cell_type": "code",
   "execution_count": 52,
   "id": "f99b9731",
   "metadata": {},
   "outputs": [
    {
     "data": {
      "text/plain": [
       "<seaborn.axisgrid.FacetGrid at 0x25e07728d90>"
      ]
     },
     "execution_count": 52,
     "metadata": {},
     "output_type": "execute_result"
    },
    {
     "data": {
      "image/png": "[encoded data removed]",
      "text/plain": [
       "<Figure size 1200x300 with 4 Axes>"
      ]
     },
     "metadata": {},
     "output_type": "display_data"
    }
   ],
   "source": [
    "g = sns.FacetGrid(data=df,col='Category')\n",
    "g.map(plt.hist,'ReportDate')"
   ]
  },
  {
   "cell_type": "code",
   "execution_count": 107,
   "id": "d6173b41",
   "metadata": {},
   "outputs": [],
   "source": [
    "df1 = pd.get_dummies(data=df, drop_first = False, columns=['Category']) "
   ]
  },
  {
   "cell_type": "code",
   "execution_count": 108,
   "id": "0c54e8d4",
   "metadata": {},
   "outputs": [],
   "source": [
    "df2 = df1.drop(['data_casenum','itype', 'Zone','Vehicle Related?'], axis=1)"
   ]
  },
  {
   "cell_type": "code",
   "execution_count": 109,
   "id": "8c5eee2f",
   "metadata": {},
   "outputs": [
    {
     "data": {
      "text/html": [
       "<div>\n",
       "<style scoped>\n",
       "    .dataframe tbody tr th:only-of-type {\n",
       "        vertical-align: middle;\n",
       "    }\n",
       "\n",
       "    .dataframe tbody tr th {\n",
       "        vertical-align: top;\n",
       "    }\n",
       "\n",
       "    .dataframe thead th {\n",
       "        text-align: right;\n",
       "    }\n",
       "</style>\n",
       "<table border=\"1\" class=\"dataframe\">\n",
       "  <thead>\n",
       "    <tr style=\"text-align: right;\">\n",
       "      <th></th>\n",
       "      <th>ReportDate</th>\n",
       "      <th>Category_Homicide</th>\n",
       "      <th>Category_Larceny</th>\n",
       "      <th>Category_Other</th>\n",
       "      <th>Category_Rape</th>\n",
       "    </tr>\n",
       "  </thead>\n",
       "  <tbody>\n",
       "    <tr>\n",
       "      <th>0</th>\n",
       "      <td>2021-08-17 20:46:00</td>\n",
       "      <td>0</td>\n",
       "      <td>0</td>\n",
       "      <td>1</td>\n",
       "      <td>0</td>\n",
       "    </tr>\n",
       "    <tr>\n",
       "      <th>1</th>\n",
       "      <td>2021-08-17 20:10:00</td>\n",
       "      <td>0</td>\n",
       "      <td>0</td>\n",
       "      <td>1</td>\n",
       "      <td>0</td>\n",
       "    </tr>\n",
       "    <tr>\n",
       "      <th>2</th>\n",
       "      <td>2021-08-17 20:10:00</td>\n",
       "      <td>0</td>\n",
       "      <td>0</td>\n",
       "      <td>1</td>\n",
       "      <td>0</td>\n",
       "    </tr>\n",
       "    <tr>\n",
       "      <th>3</th>\n",
       "      <td>2021-08-17 19:27:00</td>\n",
       "      <td>0</td>\n",
       "      <td>1</td>\n",
       "      <td>0</td>\n",
       "      <td>0</td>\n",
       "    </tr>\n",
       "    <tr>\n",
       "      <th>4</th>\n",
       "      <td>2021-08-17 18:57:00</td>\n",
       "      <td>0</td>\n",
       "      <td>0</td>\n",
       "      <td>1</td>\n",
       "      <td>0</td>\n",
       "    </tr>\n",
       "  </tbody>\n",
       "</table>\n",
       "</div>"
      ],
      "text/plain": [
       "           ReportDate  Category_Homicide  Category_Larceny  Category_Other  \\\n",
       "0 2021-08-17 20:46:00                  0                 0               1   \n",
       "1 2021-08-17 20:10:00                  0                 0               1   \n",
       "2 2021-08-17 20:10:00                  0                 0               1   \n",
       "3 2021-08-17 19:27:00                  0                 1               0   \n",
       "4 2021-08-17 18:57:00                  0                 0               1   \n",
       "\n",
       "   Category_Rape  \n",
       "0              0  \n",
       "1              0  \n",
       "2              0  \n",
       "3              0  \n",
       "4              0  "
      ]
     },
     "execution_count": 109,
     "metadata": {},
     "output_type": "execute_result"
    }
   ],
   "source": [
    "df2.head()"
   ]
  },
  {
   "cell_type": "code",
   "execution_count": 110,
   "id": "f27ce245",
   "metadata": {},
   "outputs": [
    {
     "data": {
      "text/plain": [
       "0    31809\n",
       "1       14\n",
       "Name: Category_Homicide, dtype: int64"
      ]
     },
     "execution_count": 110,
     "metadata": {},
     "output_type": "execute_result"
    }
   ],
   "source": [
    "df2.Category_Homicide.value_counts()"
   ]
  },
  {
   "cell_type": "code",
   "execution_count": 104,
   "id": "b556a921",
   "metadata": {},
   "outputs": [],
   "source": [
    "df_time=df2.set_index('ReportDate')"
   ]
  },
  {
   "cell_type": "code",
   "execution_count": 111,
   "id": "e1f03360",
   "metadata": {},
   "outputs": [
    {
     "data": {
      "text/plain": [
       "<AxesSubplot: xlabel='ReportDate'>"
      ]
     },
     "execution_count": 111,
     "metadata": {},
     "output_type": "execute_result"
    },
    {
     "data": {
      "image/png": "[encoded data removed]",
      "text/plain": [
       "<Figure size 1100x400 with 1 Axes>"
      ]
     },
     "metadata": {},
     "output_type": "display_data"
    }
   ],
   "source": [
    "df_time.groupby([df_time.index.year]).sum().plot.bar()"
   ]
  },
  {
   "cell_type": "markdown",
   "id": "5239b4c2",
   "metadata": {},
   "source": [
    "### 5.What area of town are the biggest problem areas? Change over time?"
   ]
  },
  {
   "cell_type": "code",
   "execution_count": 112,
   "id": "1915fead",
   "metadata": {},
   "outputs": [
    {
     "data": {
      "text/plain": [
       "Z1    6125\n",
       "Z3    5718\n",
       "Z5    4794\n",
       "Z6    4344\n",
       "Z4    4209\n",
       "Z8    2780\n",
       "Z2    2327\n",
       "Z7    1521\n",
       "1        2\n",
       "8        1\n",
       "6        1\n",
       "4        1\n",
       "Name: Zone, dtype: int64"
      ]
     },
     "execution_count": 112,
     "metadata": {},
     "output_type": "execute_result"
    }
   ],
   "source": [
    "df.Zone.value_counts()"
   ]
  },
  {
   "cell_type": "code",
   "execution_count": 120,
   "id": "5d44b93f",
   "metadata": {},
   "outputs": [
    {
     "data": {
      "text/plain": [
       "<seaborn.axisgrid.FacetGrid at 0x25e097eb580>"
      ]
     },
     "execution_count": 120,
     "metadata": {},
     "output_type": "execute_result"
    },
    {
     "data": {
      "image/png": "[encoded data removed]",
      "text/plain": [
       "<Figure size 500x500 with 1 Axes>"
      ]
     },
     "metadata": {},
     "output_type": "display_data"
    }
   ],
   "source": [
    "sns.displot(df['Zone'],bins=10)"
   ]
  },
  {
   "cell_type": "code",
   "execution_count": 114,
   "id": "569019fe",
   "metadata": {},
   "outputs": [],
   "source": [
    "df1 = pd.get_dummies(data=df, drop_first = False, columns=['Zone']) "
   ]
  },
  {
   "cell_type": "code",
   "execution_count": 115,
   "id": "997530d8",
   "metadata": {},
   "outputs": [],
   "source": [
    "df2 = df1.drop(['data_casenum','itype', 'Category','Vehicle Related?'], axis=1)"
   ]
  },
  {
   "cell_type": "code",
   "execution_count": 116,
   "id": "2df8b781",
   "metadata": {},
   "outputs": [
    {
     "data": {
      "text/html": [
       "<div>\n",
       "<style scoped>\n",
       "    .dataframe tbody tr th:only-of-type {\n",
       "        vertical-align: middle;\n",
       "    }\n",
       "\n",
       "    .dataframe tbody tr th {\n",
       "        vertical-align: top;\n",
       "    }\n",
       "\n",
       "    .dataframe thead th {\n",
       "        text-align: right;\n",
       "    }\n",
       "</style>\n",
       "<table border=\"1\" class=\"dataframe\">\n",
       "  <thead>\n",
       "    <tr style=\"text-align: right;\">\n",
       "      <th></th>\n",
       "      <th>ReportDate</th>\n",
       "      <th>Zone_1</th>\n",
       "      <th>Zone_4</th>\n",
       "      <th>Zone_6</th>\n",
       "      <th>Zone_8</th>\n",
       "      <th>Zone_Z1</th>\n",
       "      <th>Zone_Z2</th>\n",
       "      <th>Zone_Z3</th>\n",
       "      <th>Zone_Z4</th>\n",
       "      <th>Zone_Z5</th>\n",
       "      <th>Zone_Z6</th>\n",
       "      <th>Zone_Z7</th>\n",
       "      <th>Zone_Z8</th>\n",
       "    </tr>\n",
       "  </thead>\n",
       "  <tbody>\n",
       "    <tr>\n",
       "      <th>0</th>\n",
       "      <td>2021-08-17 20:46:00</td>\n",
       "      <td>0</td>\n",
       "      <td>0</td>\n",
       "      <td>0</td>\n",
       "      <td>0</td>\n",
       "      <td>0</td>\n",
       "      <td>0</td>\n",
       "      <td>1</td>\n",
       "      <td>0</td>\n",
       "      <td>0</td>\n",
       "      <td>0</td>\n",
       "      <td>0</td>\n",
       "      <td>0</td>\n",
       "    </tr>\n",
       "    <tr>\n",
       "      <th>1</th>\n",
       "      <td>2021-08-17 20:10:00</td>\n",
       "      <td>0</td>\n",
       "      <td>0</td>\n",
       "      <td>0</td>\n",
       "      <td>0</td>\n",
       "      <td>0</td>\n",
       "      <td>1</td>\n",
       "      <td>0</td>\n",
       "      <td>0</td>\n",
       "      <td>0</td>\n",
       "      <td>0</td>\n",
       "      <td>0</td>\n",
       "      <td>0</td>\n",
       "    </tr>\n",
       "    <tr>\n",
       "      <th>2</th>\n",
       "      <td>2021-08-17 20:10:00</td>\n",
       "      <td>0</td>\n",
       "      <td>0</td>\n",
       "      <td>0</td>\n",
       "      <td>0</td>\n",
       "      <td>1</td>\n",
       "      <td>0</td>\n",
       "      <td>0</td>\n",
       "      <td>0</td>\n",
       "      <td>0</td>\n",
       "      <td>0</td>\n",
       "      <td>0</td>\n",
       "      <td>0</td>\n",
       "    </tr>\n",
       "    <tr>\n",
       "      <th>3</th>\n",
       "      <td>2021-08-17 19:27:00</td>\n",
       "      <td>0</td>\n",
       "      <td>0</td>\n",
       "      <td>0</td>\n",
       "      <td>0</td>\n",
       "      <td>0</td>\n",
       "      <td>0</td>\n",
       "      <td>0</td>\n",
       "      <td>0</td>\n",
       "      <td>1</td>\n",
       "      <td>0</td>\n",
       "      <td>0</td>\n",
       "      <td>0</td>\n",
       "    </tr>\n",
       "    <tr>\n",
       "      <th>4</th>\n",
       "      <td>2021-08-17 18:57:00</td>\n",
       "      <td>0</td>\n",
       "      <td>0</td>\n",
       "      <td>0</td>\n",
       "      <td>0</td>\n",
       "      <td>0</td>\n",
       "      <td>0</td>\n",
       "      <td>0</td>\n",
       "      <td>0</td>\n",
       "      <td>0</td>\n",
       "      <td>0</td>\n",
       "      <td>0</td>\n",
       "      <td>1</td>\n",
       "    </tr>\n",
       "  </tbody>\n",
       "</table>\n",
       "</div>"
      ],
      "text/plain": [
       "           ReportDate  Zone_1  Zone_4  Zone_6  Zone_8  Zone_Z1  Zone_Z2  \\\n",
       "0 2021-08-17 20:46:00       0       0       0       0        0        0   \n",
       "1 2021-08-17 20:10:00       0       0       0       0        0        1   \n",
       "2 2021-08-17 20:10:00       0       0       0       0        1        0   \n",
       "3 2021-08-17 19:27:00       0       0       0       0        0        0   \n",
       "4 2021-08-17 18:57:00       0       0       0       0        0        0   \n",
       "\n",
       "   Zone_Z3  Zone_Z4  Zone_Z5  Zone_Z6  Zone_Z7  Zone_Z8  \n",
       "0        1        0        0        0        0        0  \n",
       "1        0        0        0        0        0        0  \n",
       "2        0        0        0        0        0        0  \n",
       "3        0        0        1        0        0        0  \n",
       "4        0        0        0        0        0        1  "
      ]
     },
     "execution_count": 116,
     "metadata": {},
     "output_type": "execute_result"
    }
   ],
   "source": [
    "df2.head()"
   ]
  },
  {
   "cell_type": "code",
   "execution_count": 117,
   "id": "a21bd6e2",
   "metadata": {},
   "outputs": [
    {
     "data": {
      "text/plain": [
       "0    31821\n",
       "1        2\n",
       "Name: Zone_1, dtype: int64"
      ]
     },
     "execution_count": 117,
     "metadata": {},
     "output_type": "execute_result"
    }
   ],
   "source": [
    "df2.Zone_1.value_counts()"
   ]
  },
  {
   "cell_type": "code",
   "execution_count": 118,
   "id": "241e4279",
   "metadata": {},
   "outputs": [],
   "source": [
    "df_time=df2.set_index('ReportDate')"
   ]
  },
  {
   "cell_type": "code",
   "execution_count": 119,
   "id": "354ebee4",
   "metadata": {},
   "outputs": [
    {
     "data": {
      "text/plain": [
       "<AxesSubplot: xlabel='ReportDate'>"
      ]
     },
     "execution_count": 119,
     "metadata": {},
     "output_type": "execute_result"
    },
    {
     "data": {
      "image/png": "[encoded data removed]",
      "text/plain": [
       "<Figure size 1100x400 with 1 Axes>"
      ]
     },
     "metadata": {},
     "output_type": "display_data"
    }
   ],
   "source": [
    "df_time.groupby([df_time.index.year]).sum().plot.bar()"
   ]
  },
  {
   "cell_type": "code",
   "execution_count": null,
   "id": "3a897266",
   "metadata": {},
   "outputs": [],
   "source": []
  }
 ],
 "metadata": {
  "kernelspec": {
   "display_name": "Python 3 (ipykernel)",
   "language": "python",
   "name": "python3"
  },
  "language_info": {
   "codemirror_mode": {
    "name": "ipython",
    "version": 3
   },
   "file_extension": ".py",
   "mimetype": "text/x-python",
   "name": "python",
   "nbconvert_exporter": "python",
   "pygments_lexer": "ipython3",
   "version": "3.10.8"
  }
 },
 "nbformat": 4,
 "nbformat_minor": 5
}
